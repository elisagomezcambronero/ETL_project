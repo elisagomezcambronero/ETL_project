{
 "cells": [
  {
   "cell_type": "markdown",
   "id": "afc6dd7a",
   "metadata": {},
   "source": [
    "# Proyecto-1: TOP SONGS & ARTISTS DATA ANALYSIS"
   ]
  },
  {
   "cell_type": "markdown",
   "id": "4d548e04",
   "metadata": {},
   "source": [
    "Objetivo: Este proyecto tiene como finalidad analizar canciones y artistas mas populares de los ultimos años. \n",
    "¿porq son trending? \n",
    "1 parte canciones intentar buscar relaciones de porq unas canciones son mas populares en X meses/estaciones si hay algun patron (tb generos) \n",
    "2 parte artistas- sacar conclusiones si los artistas son actuales/dead reactualizan tipos de musica..\n",
    "3 ¿a ti que te gusta?¿que te ofrezco? cn API ticket master darte opciones segun que te gusta"
   ]
  },
  {
   "cell_type": "markdown",
   "id": "4a9412a2",
   "metadata": {},
   "source": [
    "Para ello he utilizado un dataset principal extraido de Kaggle:\"Spotify Top 200 Charts (2020-2021)\".\n",
    "Este dataset incluye distinta informacion sobre todas las canciones que han estado en las listas Top 200 Weekly (Global) de Spotify en 2020 y 2021.\n",
    "\n",
    "['Highest Charting Position', 'Number of Times Charted',\n",
    "       'Week of Highest Charting', 'Song Name', 'Streams', 'Artist',\n",
    "       'Artist Followers', 'Song ID', 'Genre', 'Release Date', 'Weeks Charted',\n",
    "       'Popularity', 'Danceability', 'Energy', 'Loudness', 'Speechiness',\n",
    "       'Acousticness', 'Liveness', 'Tempo', 'Duration (ms)', 'Valence',\n",
    "       'Chord']"
   ]
  },
  {
   "cell_type": "markdown",
   "id": "d21942b2",
   "metadata": {},
   "source": [
    "Luego he añadido la siguiente informacion sobre la artista: 'gender', 'age', 'type', 'country' uniendo un nuevo dataset de Kaggle: \"Spotify Artist Metadata Top 10k\"."
   ]
  },
  {
   "cell_type": "markdown",
   "id": "f3b4cbdb",
   "metadata": {},
   "source": [
    "Columnas: ['Highest Charting Position', 'Number of Times Charted', 'Week of Highest Charting', 'Song Name', 'Streams', 'Artist', 'Artist Followers', 'Song ID', 'Genre', 'Release Date', 'Weeks Charted', 'Popularity', 'Danceability', 'Energy', 'Loudness', 'Speechiness', 'Acousticness', 'Liveness', 'Tempo', 'Duration (ms)', 'Valence', 'Chord', 'gender','age','type','country']"
   ]
  },
  {
   "cell_type": "markdown",
   "id": "21797fe9",
   "metadata": {},
   "source": [
    "# LIMPIEZA DEL DATASET"
   ]
  },
  {
   "cell_type": "markdown",
   "id": "005e6efc",
   "metadata": {},
   "source": [
    "#### 1- Types: modificar lo types necesarios para que esten correctos"
   ]
  },
  {
   "cell_type": "markdown",
   "id": "dc65b5dd",
   "metadata": {},
   "source": [
    "#### 2-  Nulos y Duplicados\n",
    "    Nulos: eliminar solo si es inferior a 1% \n",
    "    Duplicados: Eliminar duplicados manteniendo el primero"
   ]
  },
  {
   "cell_type": "markdown",
   "id": "874a23eb",
   "metadata": {},
   "source": [
    "#### 3- Ver que info quiero quedarme (eliminar/manipular columnas)"
   ]
  },
  {
   "cell_type": "markdown",
   "id": "d172b664",
   "metadata": {},
   "source": [
    "##### 3.1 Limpiar Gender"
   ]
  },
  {
   "cell_type": "markdown",
   "id": "4142d948",
   "metadata": {},
   "source": [
    "DUDAS:\n",
    "READ ME\n",
    "Presentacion (que printeo) - GRAFICOS PREFIERO PARA SACAR CONCLUSIONES\n",
    "funciones con nombres (miley cyrus vs Sam Smith)\n",
    "SQL IDs entonces creo columnas con ids de cada cosa y lo subo todo a traves de un dataframe o divido en muchos data frames"
   ]
  }
 ],
 "metadata": {
  "kernelspec": {
   "display_name": "Python 3 (ipykernel)",
   "language": "python",
   "name": "python3"
  },
  "language_info": {
   "codemirror_mode": {
    "name": "ipython",
    "version": 3
   },
   "file_extension": ".py",
   "mimetype": "text/x-python",
   "name": "python",
   "nbconvert_exporter": "python",
   "pygments_lexer": "ipython3",
   "version": "3.9.12"
  }
 },
 "nbformat": 4,
 "nbformat_minor": 5
}

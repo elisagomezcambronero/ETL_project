{
 "cells": [
  {
   "cell_type": "code",
   "execution_count": null,
   "id": "d8e78353",
   "metadata": {},
   "outputs": [],
   "source": [
    "def display_foto(image):\n",
    "    from IPython.display import display\n",
    "    from IPython.display import Image\n",
    "    return display(Image(filename='image.png', width=500)) "
   ]
  },
  {
   "cell_type": "code",
   "execution_count": null,
   "id": "fcbb4123",
   "metadata": {},
   "outputs": [],
   "source": [
    "display_foto(\"image.png\")"
   ]
  },
  {
   "cell_type": "code",
   "execution_count": 1,
   "id": "c942df72",
   "metadata": {},
   "outputs": [],
   "source": [
    "import sys"
   ]
  },
  {
   "cell_type": "code",
   "execution_count": null,
   "id": "84c3e686",
   "metadata": {},
   "outputs": [],
   "source": []
  },
  {
   "cell_type": "code",
   "execution_count": 2,
   "id": "dbb09588",
   "metadata": {},
   "outputs": [
    {
     "ename": "ModuleNotFoundError",
     "evalue": "No module named 'src'",
     "output_type": "error",
     "traceback": [
      "\u001b[1;31m---------------------------------------------------------------------------\u001b[0m",
      "\u001b[1;31mModuleNotFoundError\u001b[0m                       Traceback (most recent call last)",
      "Input \u001b[1;32mIn [2]\u001b[0m, in \u001b[0;36m<cell line: 1>\u001b[1;34m()\u001b[0m\n\u001b[1;32m----> 1\u001b[0m \u001b[38;5;28;01mimport\u001b[39;00m \u001b[38;5;21;01msrc\u001b[39;00m\u001b[38;5;21;01m.\u001b[39;00m\u001b[38;5;21;01mmain\u001b[39;00m \u001b[38;5;28;01mas\u001b[39;00m \u001b[38;5;21;01msp\u001b[39;00m\n",
      "\u001b[1;31mModuleNotFoundError\u001b[0m: No module named 'src'"
     ]
    }
   ],
   "source": [
    "import src.main as sp"
   ]
  },
  {
   "cell_type": "code",
   "execution_count": 3,
   "id": "56e2bbb8",
   "metadata": {},
   "outputs": [
    {
     "ename": "TypeError",
     "evalue": "guardar_csv() missing 1 required positional argument: 'path_name'",
     "output_type": "error",
     "traceback": [
      "\u001b[1;31m---------------------------------------------------------------------------\u001b[0m",
      "\u001b[1;31mTypeError\u001b[0m                                 Traceback (most recent call last)",
      "Input \u001b[1;32mIn [3]\u001b[0m, in \u001b[0;36m<cell line: 1>\u001b[1;34m()\u001b[0m\n\u001b[1;32m----> 1\u001b[0m \u001b[43msp\u001b[49m\u001b[38;5;241;43m.\u001b[39;49m\u001b[43mguardar_csv\u001b[49m\u001b[43m(\u001b[49m\u001b[43m)\u001b[49m\n",
      "\u001b[1;31mTypeError\u001b[0m: guardar_csv() missing 1 required positional argument: 'path_name'"
     ]
    }
   ],
   "source": [
    "sp.guardar_csv()"
   ]
  },
  {
   "cell_type": "code",
   "execution_count": null,
   "id": "3cc451b8",
   "metadata": {},
   "outputs": [],
   "source": [
    "def guess_gender(name_list):\n",
    "    #adivinar el genero segun el nombre\n",
    "    guess = {\"Gender\": []}\n",
    "    d = gender.Detector()\n",
    "    for name in name_list:\n",
    "        g=d.get_gender(name)\n",
    "        guess[\"Gender\"].append(g)\n",
    "    return guess"
   ]
  },
  {
   "cell_type": "code",
   "execution_count": null,
   "id": "82bc7393",
   "metadata": {},
   "outputs": [],
   "source": [
    "sp.display_columns"
   ]
  },
  {
   "cell_type": "code",
   "execution_count": null,
   "id": "9beb039e",
   "metadata": {},
   "outputs": [],
   "source": [
    "import gender_guesser.detector as gender"
   ]
  },
  {
   "cell_type": "code",
   "execution_count": null,
   "id": "30446097",
   "metadata": {},
   "outputs": [],
   "source": [
    "d = gender.Detector()\n",
    "for name in artist:\n",
    "        g=d.get_gender(name)"
   ]
  },
  {
   "cell_type": "code",
   "execution_count": null,
   "id": "5f85c162",
   "metadata": {},
   "outputs": [],
   "source": [
    "guess_gender(df_name)"
   ]
  },
  {
   "cell_type": "code",
   "execution_count": null,
   "id": "b216e65b",
   "metadata": {},
   "outputs": [],
   "source": [
    "df_name=[\"Marie\",\"maria\"]"
   ]
  },
  {
   "cell_type": "code",
   "execution_count": null,
   "id": "ac3c4f1a",
   "metadata": {},
   "outputs": [],
   "source": [
    "sp.opciones_webscaping"
   ]
  },
  {
   "cell_type": "code",
   "execution_count": null,
   "id": "ffd180b8",
   "metadata": {},
   "outputs": [],
   "source": [
    "sp.plot_scatter(df[\"Artist_Generation\"], df[\"Song_Decade\"], \"gen\", \"song\", \"gen and song\")"
   ]
  },
  {
   "cell_type": "code",
   "execution_count": null,
   "id": "ac555f27",
   "metadata": {},
   "outputs": [],
   "source": [
    "plt.scatter(Generacion[\"Artist_Generation\"], Generacion[\"Song_Decade\"])\n",
    "plt.xlabel('Artist_Generation')\n",
    "plt.ylabel('Song_Decade')\n",
    "plt.title('Artist_Generation & Song_Decade')\n",
    "plt.show()"
   ]
  },
  {
   "cell_type": "code",
   "execution_count": null,
   "id": "a0d7d808",
   "metadata": {},
   "outputs": [],
   "source": [
    "df=sp.abrir_csv(\"data/df_spotify_limpio_completo.csv\")"
   ]
  },
  {
   "cell_type": "code",
   "execution_count": null,
   "id": "18e28e8f",
   "metadata": {},
   "outputs": [],
   "source": [
    "df.head()"
   ]
  },
  {
   "cell_type": "code",
   "execution_count": null,
   "id": "d93a8ead",
   "metadata": {},
   "outputs": [],
   "source": [
    "sp.display_foto(\"image.png\")"
   ]
  }
 ],
 "metadata": {
  "kernelspec": {
   "display_name": "Python 3 (ipykernel)",
   "language": "python",
   "name": "python3"
  },
  "language_info": {
   "codemirror_mode": {
    "name": "ipython",
    "version": 3
   },
   "file_extension": ".py",
   "mimetype": "text/x-python",
   "name": "python",
   "nbconvert_exporter": "python",
   "pygments_lexer": "ipython3",
   "version": "3.9.12"
  }
 },
 "nbformat": 4,
 "nbformat_minor": 5
}
